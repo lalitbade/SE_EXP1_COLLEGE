{
  "nbformat": 4,
  "nbformat_minor": 0,
  "metadata": {
    "colab": {
      "provenance": [],
      "include_colab_link": true
    },
    "kernelspec": {
      "name": "python3",
      "display_name": "Python 3"
    },
    "language_info": {
      "name": "python"
    }
  },
  "cells": [
    {
      "cell_type": "markdown",
      "metadata": {
        "id": "view-in-github",
        "colab_type": "text"
      },
      "source": [
        "<a href=\"https://colab.research.google.com/github/lalitbade/SE_EXP1_COLLEGE/blob/main/SE_Exp_1.ipynb\" target=\"_parent\"><img src=\"https://colab.research.google.com/assets/colab-badge.svg\" alt=\"Open In Colab\"/></a>"
      ]
    },
    {
      "cell_type": "markdown",
      "source": [
        "##SE 2ND EXPERIMENT - WEATHER MODELING - BADE LALIT/ HU222CSEN0102246"
      ],
      "metadata": {
        "id": "cbTfU2LVl83N"
      }
    },
    {
      "cell_type": "code",
      "source": [
        "# Temperature_modeling Function\n",
        "def Temperature_modeling(a,b,c,time):\n",
        "  temp = a*time**2 + b*time + c\n",
        "  return temp"
      ],
      "metadata": {
        "id": "2eud71fymKgr"
      },
      "execution_count": null,
      "outputs": []
    },
    {
      "cell_type": "code",
      "source": [
        "# STEP-1: Working with hardcoded variables\n",
        "a = 1\n",
        "b = 2\n",
        "c = 3\n",
        "time = 5\n",
        "print(f'The Predicted Temperature at time {time} hours: {Temperature_modeling(a,b,c,time)}')"
      ],
      "metadata": {
        "colab": {
          "base_uri": "https://localhost:8080/"
        },
        "id": "jXBqNuAGm3rg",
        "outputId": "23e2a7a3-9a75-42bb-ce0e-8861e9f34338"
      },
      "execution_count": null,
      "outputs": [
        {
          "output_type": "stream",
          "name": "stdout",
          "text": [
            "The Predicted Temperature at time 5 hours: 38\n"
          ]
        }
      ]
    },
    {
      "cell_type": "code",
      "source": [
        "#STEP-2: Working with dynamic input\n",
        "a = float(input(\"Enter the value of A: \"))\n",
        "b = float(input(\"Enter the value of B: \"))\n",
        "c = float(input(\"Enter the value of C: \"))\n",
        "time = float(input(\"Enter the time: \"))\n",
        "print(f'The Predicted Temperature at time {time} hours: {Temperature_modeling(a,b,c,time)}')"
      ],
      "metadata": {
        "colab": {
          "base_uri": "https://localhost:8080/"
        },
        "id": "H1vFI9NwpMpx",
        "outputId": "11528775-0dc4-4fc8-c725-375d405a12d7"
      },
      "execution_count": null,
      "outputs": [
        {
          "output_type": "stream",
          "name": "stdout",
          "text": [
            "Enter the value of A: 3\n",
            "Enter the value of B: 5\n",
            "Enter the value of C: 78\n",
            "Enter the time: 5\n",
            "The Predicted Temperature at time 5.0 hours: 178.0\n"
          ]
        }
      ]
    },
    {
      "cell_type": "code",
      "source": [
        "#STEP-3: Reading a single input from the file\n",
        "with open(\"/content/input.txt\",\"r\") as f:\n",
        "  numbers = [line.strip().split(\",\") for line in f.readlines()]\n",
        "  a,b,c,time = numbers[0]\n",
        "a = int(a)\n",
        "b = int(b)\n",
        "c = int(c)\n",
        "time = int(time)\n",
        "print(f'The Predicted Temperature at time {time} hours: {Temperature_modeling(a,b,c,time)}')\n"
      ],
      "metadata": {
        "colab": {
          "base_uri": "https://localhost:8080/"
        },
        "id": "ZeNTMfkVptf2",
        "outputId": "55c270fb-b2ae-40e1-cbee-cd785daf51c4"
      },
      "execution_count": null,
      "outputs": [
        {
          "output_type": "stream",
          "name": "stdout",
          "text": [
            "The Predicted Temperature at time 5 hours: 38\n"
          ]
        }
      ]
    },
    {
      "cell_type": "code",
      "source": [
        "#STEP-4: Reading multiple inputs from the file\n",
        "with open(\"/content/input.txt\",\"r\") as f:\n",
        "  numbers = [line.strip().split(\",\") for line in f.readlines()]\n",
        "  for i in numbers:\n",
        "    a,b,c,time = i\n",
        "    a = int(a)\n",
        "    b = int(b)\n",
        "    c = int(c)\n",
        "    time = int(time)\n",
        "    print(f'The Predicted Temperature at time {time} hours: {Temperature_modeling(a,b,c,time)}')"
      ],
      "metadata": {
        "colab": {
          "base_uri": "https://localhost:8080/"
        },
        "id": "YT0LM-eZukbS",
        "outputId": "d1963cba-556c-4c1e-9d82-2b963622536b"
      },
      "execution_count": null,
      "outputs": [
        {
          "output_type": "stream",
          "name": "stdout",
          "text": [
            "The Predicted Temperature at time 5 hours: 38\n",
            "The Predicted Temperature at time 5 hours: 69\n",
            "The Predicted Temperature at time 5 hours: 281\n"
          ]
        }
      ]
    }
  ]
}